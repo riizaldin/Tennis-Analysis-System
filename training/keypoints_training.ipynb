{
 "cells": [
  {
   "cell_type": "markdown",
   "id": "2b689285",
   "metadata": {},
   "source": [
    "# KODE UNTUK TERMINAL MAIN.PY COURT KEYPOINT\n"
   ]
  },
  {
   "cell_type": "markdown",
   "id": "d42bd6e5",
   "metadata": {},
   "source": [
    "cd C:\\KULIAH\\SKRIPSI\\tennis_analysis\\training\\TennisCourtDetector; & C:/KULIAH/SKRIPSI/tennis_analysis/.venv/Scripts/python.exe main.py --exp_id skripsi_resnet50 --num_epochs 50 --batch_size 8 --steps_per_epoch 500 --lr 1e-4 --val_intervals 5"
   ]
  }
 ],
 "metadata": {
  "kernelspec": {
   "display_name": ".venv",
   "language": "python",
   "name": "python3"
  },
  "language_info": {
   "name": "python",
   "version": "3.10.0"
  }
 },
 "nbformat": 4,
 "nbformat_minor": 5
}
